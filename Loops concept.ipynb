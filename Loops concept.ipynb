{
 "cells": [
  {
   "cell_type": "code",
   "execution_count": null,
   "id": "76e2a60e",
   "metadata": {},
   "outputs": [],
   "source": [
    "#i want to print first 10 numbers\n",
    "#intial points:0\n",
    "#increment\n",
    "#cond"
   ]
  },
  {
   "cell_type": "code",
   "execution_count": null,
   "id": "111adde8",
   "metadata": {},
   "outputs": [],
   "source": [
    "i=0\n",
    "i=1\n",
    "i=3\n",
    "i=4\n",
    "i=5\n",
    "i=6"
   ]
  },
  {
   "cell_type": "code",
   "execution_count": 1,
   "id": "ae3b2c72",
   "metadata": {},
   "outputs": [
    {
     "name": "stdout",
     "output_type": "stream",
     "text": [
      "0\n",
      "1\n",
      "2\n",
      "3\n",
      "4\n",
      "5\n",
      "6\n",
      "7\n",
      "8\n",
      "9\n",
      "10\n",
      "11\n",
      "12\n",
      "13\n",
      "14\n",
      "15\n",
      "16\n",
      "17\n",
      "18\n",
      "19\n"
     ]
    }
   ],
   "source": [
    "for i in range(20):\n",
    "    print(i)"
   ]
  },
  {
   "cell_type": "code",
   "execution_count": null,
   "id": "6540c8ac",
   "metadata": {},
   "outputs": [],
   "source": [
    "for i in range(20):\n",
    "    print(i)\n"
   ]
  },
  {
   "cell_type": "code",
   "execution_count": 2,
   "id": "4d05d5f6",
   "metadata": {},
   "outputs": [
    {
     "name": "stdout",
     "output_type": "stream",
     "text": [
      "0\n",
      "1\n",
      "2\n"
     ]
    }
   ],
   "source": [
    "print(0)\n",
    "print(1)\n",
    "print(2)#generate :print(i)"
   ]
  },
  {
   "cell_type": "code",
   "execution_count": null,
   "id": "0f46f2b4",
   "metadata": {},
   "outputs": [],
   "source": [
    "-intial\n",
    "-increment\n",
    "-condition\n",
    "for i in range (20)"
   ]
  },
  {
   "cell_type": "code",
   "execution_count": null,
   "id": "bd664725",
   "metadata": {},
   "outputs": [],
   "source": []
  },
  {
   "cell_type": "code",
   "execution_count": 3,
   "id": "61032d8a",
   "metadata": {},
   "outputs": [
    {
     "name": "stdout",
     "output_type": "stream",
     "text": [
      "012\n"
     ]
    }
   ],
   "source": [
    "print(0,end='')\n",
    "print(1,end='')\n",
    "print(2)"
   ]
  },
  {
   "cell_type": "code",
   "execution_count": 15,
   "id": "7beb1242",
   "metadata": {},
   "outputs": [
    {
     "name": "stdout",
     "output_type": "stream",
     "text": [
      "0 1 2 3 4 5 6 7 8 9 10 11 12 13 14 15 16 17 18 19 "
     ]
    }
   ],
   "source": [
    "for i in range(20):\n",
    "    print(i,end=' ')"
   ]
  },
  {
   "cell_type": "code",
   "execution_count": 14,
   "id": "57d95ef0",
   "metadata": {},
   "outputs": [
    {
     "name": "stdout",
     "output_type": "stream",
     "text": [
      "2 3 4 5 6 "
     ]
    }
   ],
   "source": [
    "for i in range(2,7):\n",
    "    print(i,end=\" \")\n",
    "    #start=10,pos end=20-1=19"
   ]
  },
  {
   "cell_type": "code",
   "execution_count": 13,
   "id": "5ca9779a",
   "metadata": {},
   "outputs": [
    {
     "name": "stdout",
     "output_type": "stream",
     "text": [
      "2 4 6 8 10 12 14 16 18 "
     ]
    }
   ],
   "source": [
    "for i in range(2,20,2):\n",
    "    print(i,end=' ')"
   ]
  },
  {
   "cell_type": "code",
   "execution_count": 12,
   "id": "7763667b",
   "metadata": {},
   "outputs": [
    {
     "name": "stdout",
     "output_type": "stream",
     "text": [
      "-4 -7 -10 -13 -16 -19 -22 -25 -28 -31 -34 -37 "
     ]
    }
   ],
   "source": [
    "for i in range(-4,-40,-3):\n",
    "    print(i,end=' ')"
   ]
  },
  {
   "cell_type": "code",
   "execution_count": 11,
   "id": "4a7af2af",
   "metadata": {},
   "outputs": [
    {
     "name": "stdout",
     "output_type": "stream",
     "text": [
      "-1 -2 -3 -4 -5 -6 -7 -8 -9 "
     ]
    }
   ],
   "source": [
    "for i in range(-1,-10,-1):\n",
    "    print(i,end=\" \")"
   ]
  },
  {
   "cell_type": "code",
   "execution_count": 16,
   "id": "142669c6",
   "metadata": {},
   "outputs": [],
   "source": [
    "for i in range(8,20,-2):\n",
    "    print(i)"
   ]
  },
  {
   "cell_type": "code",
   "execution_count": null,
   "id": "f11df12f",
   "metadata": {},
   "outputs": [],
   "source": [
    "range(3,25,3)\n",
    "range(3,25,-3)\n",
    "range(3,-25,3)\n",
    "range(3,-25,-3)\n",
    "range(-3,25,3)\n",
    "range(-3,-25,3)\n",
    "range(-3,25,-3)\n",
    "range(-3,-25,-3)"
   ]
  },
  {
   "cell_type": "raw",
   "id": "ce6d2625",
   "metadata": {},
   "source": [
    "for i range"
   ]
  },
  {
   "cell_type": "code",
   "execution_count": 21,
   "id": "c742d2dd",
   "metadata": {},
   "outputs": [
    {
     "name": "stdout",
     "output_type": "stream",
     "text": [
      "3 0 -3 -6 -9 -12 -15 -18 -21 -24 "
     ]
    }
   ],
   "source": [
    "for i in range(3,-25,-3): print(i,end=\" \")"
   ]
  },
  {
   "cell_type": "code",
   "execution_count": 22,
   "id": "93f504d3",
   "metadata": {},
   "outputs": [
    {
     "name": "stdout",
     "output_type": "stream",
     "text": [
      "hello\n",
      "hello\n",
      "hello\n"
     ]
    }
   ],
   "source": [
    "#wap print:hello 3 times\n",
    "print(\"hello\")\n",
    "print(\"hello\")\n",
    "print(\"hello\")"
   ]
  },
  {
   "cell_type": "code",
   "execution_count": 23,
   "id": "a5f41229",
   "metadata": {},
   "outputs": [
    {
     "name": "stdout",
     "output_type": "stream",
     "text": [
      "hello\n",
      "hello\n",
      "hello\n"
     ]
    }
   ],
   "source": [
    "for i in range(3):\n",
    "    print(\"hello\")\n",
    "#step the loop"
   ]
  },
  {
   "cell_type": "code",
   "execution_count": 27,
   "id": "ec45becd",
   "metadata": {},
   "outputs": [
    {
     "name": "stdout",
     "output_type": "stream",
     "text": [
      "hai\n",
      "hello\n",
      "how do tou do\n",
      "pragathi\n",
      "hello\n",
      "how do tou do\n",
      "pragathi\n",
      "hello\n",
      "how do tou do\n",
      "pragathi\n"
     ]
    }
   ],
   "source": [
    "print('hai')\n",
    "for i in range(3):\n",
    "    print(\"hello\")\n",
    "    print('how do tou do')\n",
    "    print(\"pragathi\")"
   ]
  },
  {
   "cell_type": "code",
   "execution_count": 29,
   "id": "e37cf353",
   "metadata": {},
   "outputs": [
    {
     "name": "stdout",
     "output_type": "stream",
     "text": [
      "A\n",
      "A\n",
      "A\n",
      "b\n",
      "b\n",
      "c\n",
      "c\n",
      "c\n",
      "c\n"
     ]
    }
   ],
   "source": [
    "for i in range(3):\n",
    "    print(\"A\")\n",
    "for i in range(2):\n",
    "    print(\"b\")\n",
    "for i in range(4):\n",
    "    print(\"c\")"
   ]
  },
  {
   "cell_type": "code",
   "execution_count": 30,
   "id": "dc4ed842",
   "metadata": {},
   "outputs": [
    {
     "name": "stdout",
     "output_type": "stream",
     "text": [
      "the squre of 10 is 100 \n",
      "the squre of 11 is 121 \n",
      "the squre of 12 is 144 \n",
      "the squre of 13 is 169 \n",
      "the squre of 14 is 196 \n",
      "the squre of 15 is 225 \n"
     ]
    }
   ],
   "source": [
    "#wap ask the user to get the squre of the numbers\n",
    "#between 10 to 15\n",
    "#squre of 10 is 100\n",
    "#squre of 11 is 121\n",
    "#squre of 12 s 144\n",
    "#first number get from 10 to 15\n",
    "for i in range(10,16):\n",
    "    print(\"the squre of {} is {} \".format(i,i*i))"
   ]
  },
  {
   "cell_type": "code",
   "execution_count": 35,
   "id": "a49c4134",
   "metadata": {},
   "outputs": [
    {
     "name": "stdout",
     "output_type": "stream",
     "text": [
      "the cube of 2 is 4 \n",
      "the cube of 3 is 27 \n",
      "the cube of 4 is 256 \n",
      "the cube of 5 is 3125 \n",
      "the cube of 6 is 46656 \n",
      "the cube of 7 is 823543 \n",
      "the cube of 8 is 16777216 \n",
      "the cube of 9 is 387420489 \n"
     ]
    }
   ],
   "source": [
    "for i in range(2,10):\n",
    "    print(\"the cube of {} is {} \".format(i,i**i))"
   ]
  },
  {
   "cell_type": "code",
   "execution_count": 36,
   "id": "8bffff8d",
   "metadata": {},
   "outputs": [
    {
     "name": "stdout",
     "output_type": "stream",
     "text": [
      "enter the stat number:10\n",
      "enter the stop number:20\n",
      "the squre of 10 is 100 \n",
      "the squre of 11 is 121 \n",
      "the squre of 12 is 144 \n",
      "the squre of 13 is 169 \n",
      "the squre of 14 is 196 \n",
      "the squre of 15 is 225 \n",
      "the squre of 16 is 256 \n",
      "the squre of 17 is 289 \n",
      "the squre of 18 is 324 \n",
      "the squre of 19 is 361 \n"
     ]
    }
   ],
   "source": [
    "#replace the values\n",
    "num1=eval(input(\"enter the stat number:\"))\n",
    "num2=eval(input(\"enter the stop number:\"))\n",
    "for i in range(num1,num2):\n",
    "    print(\"the squre of {} is {} \".format(i,i*i))"
   ]
  },
  {
   "cell_type": "code",
   "execution_count": 38,
   "id": "dd4a8268",
   "metadata": {},
   "outputs": [
    {
     "name": "stdout",
     "output_type": "stream",
     "text": [
      "enter the stat number:10\n",
      "enter the stop number:20\n",
      "the squre of 10 is 100 \n",
      "the squre of 11 is 121 \n",
      "the squre of 12 is 144 \n",
      "the squre of 13 is 169 \n",
      "the squre of 14 is 196 \n",
      "the squre of 15 is 225 \n",
      "the squre of 16 is 256 \n",
      "the squre of 17 is 289 \n",
      "the squre of 18 is 324 \n",
      "the squre of 19 is 361 \n"
     ]
    }
   ],
   "source": [
    "#function with out arguments\n",
    "def squarel():\n",
    "    num1=eval(input(\"enter the stat number:\"))\n",
    "    num2=eval(input(\"enter the stop number:\"))\n",
    "    for i in range(num1,num2):\n",
    "        print(\"the squre of {} is {} \".format(i,i*i))\n",
    "squarel()        "
   ]
  },
  {
   "cell_type": "code",
   "execution_count": 45,
   "id": "739e3b1d",
   "metadata": {},
   "outputs": [
    {
     "name": "stdout",
     "output_type": "stream",
     "text": [
      "my name is usha\n",
      "my name isusha \n",
      "the squre of5  is25 \n",
      "the cube of3 is27 \n"
     ]
    }
   ],
   "source": [
    "name=\"usha\"\n",
    "print(\"my name is\",name)\n",
    "print(\"my name is{} \".format(name))\n",
    "print(\"the squre of{}  is{} \".format(5,5*5))\n",
    "print(\"the cube of{} is{} \".format(3,3**3))"
   ]
  },
  {
   "cell_type": "code",
   "execution_count": 44,
   "id": "468afac4",
   "metadata": {},
   "outputs": [
    {
     "name": "stdout",
     "output_type": "stream",
     "text": [
      "the squre of 10 is 100 \n",
      "the squre of 11 is 121 \n",
      "the squre of 12 is 144 \n"
     ]
    }
   ],
   "source": [
    "def squrel(num11,num22):\n",
    "    for i in range(num11,num22):\n",
    "        print(\"the squre of {} is {} \".format(i,i*i))\n",
    "squrel(10,13)"
   ]
  },
  {
   "cell_type": "code",
   "execution_count": 46,
   "id": "c5b966b4",
   "metadata": {},
   "outputs": [
    {
     "name": "stdout",
     "output_type": "stream",
     "text": [
      "enter a number:4\n",
      "the squre of 4 is 16 \n",
      "enter a number:3\n",
      "the squre of 3 is 9 \n",
      "enter a number:6\n",
      "the squre of 6 is 36 \n",
      "enter a number:5\n",
      "the squre of 5 is 25 \n",
      "enter a number:5\n",
      "the squre of 5 is 25 \n"
     ]
    }
   ],
   "source": [
    "for i in range(5):\n",
    "    num=eval(input(\"enter a number:\"))\n",
    "    print(\"the squre of {} is {} \".format(num,num*num))"
   ]
  },
  {
   "cell_type": "code",
   "execution_count": 47,
   "id": "0971173f",
   "metadata": {},
   "outputs": [
    {
     "name": "stdout",
     "output_type": "stream",
     "text": [
      "the squre of 0 is 0 \n",
      "the squre of 1 is 1 \n",
      "the squre of 2 is 4 \n",
      "the squre of 3 is 9 \n",
      "the squre of 4 is 16 \n"
     ]
    }
   ],
   "source": [
    "for i in range(5):\n",
    "    print(\"the squre of {} is {} \".format(i,i*i))"
   ]
  },
  {
   "cell_type": "code",
   "execution_count": 51,
   "id": "55146a71",
   "metadata": {},
   "outputs": [
    {
     "name": "stdout",
     "output_type": "stream",
     "text": [
      "enter a number:10\n",
      "the squre of 10 is 100 \n",
      "the squre of 10 is 100 \n",
      "the squre of 10 is 100 \n",
      "the squre of 10 is 100 \n",
      "the squre of 10 is 100 \n",
      "enter a number:20\n",
      "the squre of 20 is 400 \n",
      "enter a number:30\n",
      "the squre of 30 is 900 \n",
      "enter a number:20\n",
      "the squre of 20 is 400 \n",
      "enter a number:40\n",
      "the squre of 40 is 1600 \n",
      "enter a number:50\n",
      "the squre of 50 is 2500 \n"
     ]
    }
   ],
   "source": [
    "num=eval(input(\"enter a number:\"))\n",
    "for i in range(5):\n",
    "    print(\"the squre of {} is {} \".format(num,num*num))\n",
    "    \n",
    "    \n",
    "    \n",
    "    \n",
    "    \n",
    "for i in range(5):\n",
    "    num=eval(input(\"enter a number:\"))\n",
    "    print(\"the squre of {} is {} \".format(num,num*num))"
   ]
  },
  {
   "cell_type": "code",
   "execution_count": 1,
   "id": "cd218f84",
   "metadata": {},
   "outputs": [
    {
     "name": "stdout",
     "output_type": "stream",
     "text": [
      "enter a number:10\n",
      "the squre of 10 is 100 \n",
      "enter a number:10\n",
      "the squre of 10 is 100 \n",
      "enter a number:10\n",
      "the squre of 10 is 100 \n",
      "enter a number:10\n",
      "the squre of 10 is 100 \n",
      "enter a number:10\n",
      "the squre of 10 is 100 \n"
     ]
    }
   ],
   "source": [
    "for i in range(5):\n",
    "    num=eval(input(\"enter a number:\"))\n",
    "    print(\"the squre of {} is {} \".format(num,num*num))"
   ]
  },
  {
   "cell_type": "code",
   "execution_count": 2,
   "id": "9384562c",
   "metadata": {},
   "outputs": [
    {
     "name": "stdout",
     "output_type": "stream",
     "text": [
      "enter a number:10\n",
      "the squre of 10 is 100 \n",
      "the squre of 10 is 100 \n",
      "the squre of 10 is 100 \n",
      "the squre of 10 is 100 \n",
      "the squre of 10 is 100 \n"
     ]
    }
   ],
   "source": [
    "num=eval(input(\"enter a number:\"))\n",
    "for i in range(5):\n",
    "    print(\"the squre of {} is {} \".format(num,num*num))\n",
    "    "
   ]
  },
  {
   "cell_type": "code",
   "execution_count": 1,
   "id": "40015558",
   "metadata": {},
   "outputs": [
    {
     "name": "stdout",
     "output_type": "stream",
     "text": [
      "the given 10 is even\n",
      "the given 11 is odd\n",
      "the given 12 is even\n",
      "the given 13 is odd\n",
      "the given 14 is even\n",
      "the given 15 is odd\n",
      "the given 16 is even\n",
      "the given 17 is odd\n",
      "the given 18 is even\n",
      "the given 19 is odd\n",
      "the given 20 is even\n",
      "the given 21 is odd\n",
      "the given 22 is even\n",
      "the given 23 is odd\n",
      "the given 24 is even\n",
      "the given 25 is odd\n",
      "the given 26 is even\n",
      "the given 27 is odd\n",
      "the given 28 is even\n",
      "the given 29 is odd\n",
      "the given 30 is even\n"
     ]
    }
   ],
   "source": [
    "#WAP ask the user print the given number is even or odd\n",
    "#you need to take the number between 10 to 30 \n",
    "#itrate loop between 10 and 30\n",
    "#every time apply if i%==0: print even\n",
    "# else:print odd\n",
    "\n",
    "for num in range(10,31):\n",
    "    if num%2==0:\n",
    "        print(\"the given {} is even\".format(num))\n",
    "    else:\n",
    "        print(\"the given {} is odd\".format(num))"
   ]
  },
  {
   "cell_type": "code",
   "execution_count": 7,
   "id": "2bd23911",
   "metadata": {},
   "outputs": [
    {
     "name": "stdout",
     "output_type": "stream",
     "text": [
      "the given 29 is odd\n",
      "the given 19 is odd\n",
      "the given 30 is even\n",
      "the given 30 is even\n",
      "the given 20 is even\n"
     ]
    }
   ],
   "source": [
    "#if you need random (10,30) if even or odd\n",
    "import random\n",
    "for i in range(5):\n",
    "    num=random.randint(10,30)\n",
    "    if num % 2==0:\n",
    "        print(\"the given {} is even\".format(num))\n",
    "    else:\n",
    "        print(\"the given {} is odd\".format(num))"
   ]
  },
  {
   "cell_type": "code",
   "execution_count": 9,
   "id": "890af9a3",
   "metadata": {},
   "outputs": [
    {
     "name": "stdout",
     "output_type": "stream",
     "text": [
      "the given 23 is odd\n",
      "the given 21 is odd\n",
      "the given 21 is odd\n",
      "the given 21 is odd\n",
      "the given 30 is even\n"
     ]
    }
   ],
   "source": [
    "def even_odd(num):\n",
    "    if num % 2==0:\n",
    "        print(\"the given {} is even\".format(num))\n",
    "    else:\n",
    "        print(\"the given {} is odd\".format(num))\n",
    "import random\n",
    "for i in range(5):\n",
    "    num=random.randint(10,30)\n",
    "    even_odd(num)\n",
    "        "
   ]
  },
  {
   "cell_type": "code",
   "execution_count": 10,
   "id": "05eef44d",
   "metadata": {},
   "outputs": [
    {
     "data": {
      "text/plain": [
       "['__add__',\n",
       " '__class__',\n",
       " '__class_getitem__',\n",
       " '__contains__',\n",
       " '__delattr__',\n",
       " '__delitem__',\n",
       " '__dir__',\n",
       " '__doc__',\n",
       " '__eq__',\n",
       " '__format__',\n",
       " '__ge__',\n",
       " '__getattribute__',\n",
       " '__getitem__',\n",
       " '__gt__',\n",
       " '__hash__',\n",
       " '__iadd__',\n",
       " '__imul__',\n",
       " '__init__',\n",
       " '__init_subclass__',\n",
       " '__iter__',\n",
       " '__le__',\n",
       " '__len__',\n",
       " '__lt__',\n",
       " '__mul__',\n",
       " '__ne__',\n",
       " '__new__',\n",
       " '__reduce__',\n",
       " '__reduce_ex__',\n",
       " '__repr__',\n",
       " '__reversed__',\n",
       " '__rmul__',\n",
       " '__setattr__',\n",
       " '__setitem__',\n",
       " '__sizeof__',\n",
       " '__str__',\n",
       " '__subclasshook__',\n",
       " 'append',\n",
       " 'clear',\n",
       " 'copy',\n",
       " 'count',\n",
       " 'extend',\n",
       " 'index',\n",
       " 'insert',\n",
       " 'pop',\n",
       " 'remove',\n",
       " 'reverse',\n",
       " 'sort']"
      ]
     },
     "execution_count": 10,
     "metadata": {},
     "output_type": "execute_result"
    }
   ],
   "source": [
    "dir(list)"
   ]
  },
  {
   "cell_type": "code",
   "execution_count": 16,
   "id": "86a1ec95",
   "metadata": {},
   "outputs": [
    {
     "name": "stdout",
     "output_type": "stream",
     "text": [
      "5\n",
      "enter number betwwen 1 and 10:4\n",
      "you lost\n",
      "enter number betwwen 1 and 10:5\n",
      "you won\n"
     ]
    }
   ],
   "source": [
    "import random\n",
    "random_num=random.randint(1,10)\n",
    "print(random_num)\n",
    "for i in range(3):\n",
    "    user_num=eval(input(\"enter number betwwen 1 and 10:\"))\n",
    "    if user_num==random_num:\n",
    "        print(\"you won\")                                         #if you are won then code will stopif you are lost\n",
    "        break\n",
    "    else:\n",
    "        print(\"you lost\")\n",
    "    "
   ]
  },
  {
   "cell_type": "code",
   "execution_count": 18,
   "id": "69688e8e",
   "metadata": {},
   "outputs": [
    {
     "name": "stdout",
     "output_type": "stream",
     "text": [
      "7\n",
      "enter number betwwen 1 and 10:5\n",
      "you lost\n",
      "the number of chances left is: 2\n",
      "enter number betwwen 1 and 10:6\n",
      "you lost\n",
      "the number of chances left is: 1\n",
      "enter number betwwen 1 and 10:7\n",
      "you won\n"
     ]
    }
   ],
   "source": [
    "import random\n",
    "random_num=random.randint(1,10)\n",
    "print(random_num)\n",
    "for i in range(3):\n",
    "    user_num=eval(input(\"enter number betwwen 1 and 10:\"))\n",
    "    if user_num==random_num:\n",
    "        print(\"you won\")                                         #if you are won then code will stopif you are lost\n",
    "        break\n",
    "    else:\n",
    "        print(\"you lost\")\n",
    "        print(\"the number of chances left is:\",3-1-i)\n",
    "    \n"
   ]
  },
  {
   "cell_type": "code",
   "execution_count": 19,
   "id": "ee0fe2c4",
   "metadata": {},
   "outputs": [
    {
     "name": "stdout",
     "output_type": "stream",
     "text": [
      "2\n",
      "how many chances you want:3\n",
      "enter number betwwen 1 and 10:1\n",
      "you lost\n",
      "the number of chances left is: 2\n",
      "enter number betwwen 1 and 10:2\n",
      "you won\n"
     ]
    }
   ],
   "source": [
    "import random\n",
    "random_num=random.randint(1,10)\n",
    "print(random_num)\n",
    "chances=eval(input(\"how many chances you want:\"))\n",
    "for i in range(chances):\n",
    "    user_num=eval(input(\"enter number betwwen 1 and 10:\"))\n",
    "    if user_num==random_num:\n",
    "        print(\"you won\")                                         #if you are won then code will stopif you are lost\n",
    "        break\n",
    "    else:\n",
    "        print(\"you lost\")\n",
    "        print(\"the number of chances left is:\",chances-1-i)\n",
    "    \n",
    "    "
   ]
  },
  {
   "cell_type": "code",
   "execution_count": 25,
   "id": "55e27d24",
   "metadata": {},
   "outputs": [
    {
     "name": "stdout",
     "output_type": "stream",
     "text": [
      "6\n",
      "enter how many chances you want:3\n",
      "enter number betwwen 1 and 10:5\n",
      "you lost\n",
      "the number of chances left is: 2\n",
      "=========================================================\n",
      "enter number betwwen 1 and 10:2\n",
      "you lost\n",
      "the number of chances left is: 1\n",
      "=========================================================\n",
      "enter number betwwen 1 and 10:6\n",
      "you won\n"
     ]
    }
   ],
   "source": [
    "import random\n",
    "random_num=random.randint(1,10)\n",
    "print(random_num)\n",
    "chances=eval(input(\"enter how many chances you want:\"))\n",
    "for i in range(chances):\n",
    "    user_num=eval(input(\"enter number betwwen 1 and 10:\"))\n",
    "    if user_num==random_num:\n",
    "        print(\"you won\")                                         #if you are won then code will stopif you are lost\n",
    "        break\n",
    "        \n",
    "        \n",
    "    elif chances-1-i==0:\n",
    "        print(\"you lost\")\n",
    "        print(\"all chances are over\")\n",
    "        print(\"pls try again\")\n",
    "    else:\n",
    "        print(\"you lost\")\n",
    "        print(\"the number of chances left is:\",chances-1-i)\n",
    "        print(\"=========================================================\")"
   ]
  },
  {
   "cell_type": "code",
   "execution_count": 27,
   "id": "f9eecf3e",
   "metadata": {},
   "outputs": [
    {
     "name": "stdout",
     "output_type": "stream",
     "text": [
      "0+1 is:\n",
      "1\n",
      "1+2 is:\n",
      "3\n",
      "3+3 is:\n",
      "6\n",
      "6+4 is:\n",
      "10\n",
      "10+5 is:\n",
      "15\n",
      "15+6 is:\n",
      "21\n",
      "21+7 is:\n",
      "28\n",
      "28+8 is:\n",
      "36\n",
      "36+9 is:\n",
      "45\n",
      "45+10 is:\n",
      "55\n",
      "the sum of fist 10 natural numbers: <built-in function sum>\n"
     ]
    }
   ],
   "source": [
    "#WAP ask the user to get the sum of 10 natural numbers\n",
    "#1+2+3+4+5+6+7+8+10=55\n",
    "\n",
    "summ=0\n",
    "for i in range(1,11):\n",
    "    print(\"{}+{} is:\".format(summ,i))\n",
    "    summ=summ+i\n",
    "    print(summ)\n",
    "print(\"the sum of fist 10 natural numbers:\",sum)"
   ]
  },
  {
   "cell_type": "code",
   "execution_count": 29,
   "id": "9c771877",
   "metadata": {},
   "outputs": [
    {
     "name": "stdout",
     "output_type": "stream",
     "text": [
      "1\n",
      "3\n",
      "6\n",
      "10\n",
      "15\n",
      "21\n",
      "28\n",
      "36\n",
      "45\n",
      "55\n",
      "the sum of fist 10 natural numbers\n"
     ]
    }
   ],
   "source": [
    "summ=0\n",
    "for i in range(1,11):\n",
    "    summ=summ+i\n",
    "    print(summ)\n",
    "print(\"the sum of fist 10 natural numbers\")"
   ]
  },
  {
   "cell_type": "code",
   "execution_count": 32,
   "id": "19e93a1e",
   "metadata": {},
   "outputs": [
    {
     "name": "stdout",
     "output_type": "stream",
     "text": [
      "0\n",
      "1\n",
      "2\n",
      "3\n",
      "4\n",
      "5\n",
      "6\n",
      "7\n",
      "8\n",
      "9\n"
     ]
    }
   ],
   "source": [
    "for i in range(10):\n",
    "    num=i\n",
    "    print(i)"
   ]
  },
  {
   "cell_type": "code",
   "execution_count": 34,
   "id": "74b09b5b",
   "metadata": {},
   "outputs": [
    {
     "name": "stdout",
     "output_type": "stream",
     "text": [
      "when is odd 0\n",
      "the given 21 is odd\n",
      "when is even 1\n",
      "the given 22 is even\n",
      "when is odd 2\n",
      "the given 17 is odd\n",
      "when is odd 3\n",
      "the given 13 is odd\n",
      "when is even 4\n",
      "the given 24 is even\n",
      "2 0\n"
     ]
    }
   ],
   "source": [
    "even_count=0\n",
    "odd_count=0\n",
    "import random\n",
    "for i in range(5):\n",
    "    num=random.randint(10,30)\n",
    "    if num%2==0:\n",
    "        print(\"when is even\",i)\n",
    "        print(\"the given {} is even\".format(num))\n",
    "        even_count=even_count+1\n",
    "    else:\n",
    "        print(\"when is odd\",i)\n",
    "        print(\"the given {} is odd\".format(num))\n",
    "print(even_count,odd_count)\n"
   ]
  },
  {
   "cell_type": "code",
   "execution_count": null,
   "id": "62e10fcf",
   "metadata": {},
   "outputs": [],
   "source": [
    "your loop should run 3 times\n",
    "even=0\n",
    "i=0      24    one even\n",
    "i=1      22    two\n",
    "i=3      19"
   ]
  },
  {
   "cell_type": "code",
   "execution_count": 38,
   "id": "2a86fa92",
   "metadata": {},
   "outputs": [
    {
     "name": "stdout",
     "output_type": "stream",
     "text": [
      "54\n",
      "59\n",
      "64\n",
      "60\n",
      "62\n",
      "58\n",
      "49\n",
      "27\n",
      "26\n",
      "the number of values more than 20 is: 9\n"
     ]
    }
   ],
   "source": [
    "#WAP ask the user take a random number between 1to99\n",
    "#itrate the loop 10 times\n",
    "#count how many times a number is coming and grater than 50\n",
    "\n",
    "\n",
    "import random\n",
    "count=0\n",
    "for i in range(10):\n",
    "    num=random.randint(1,99)\n",
    "    if num>20:\n",
    "        print(num)\n",
    "        count+=1\n",
    "print(\"the number of values more than 20 is:\",count)"
   ]
  },
  {
   "cell_type": "code",
   "execution_count": 52,
   "id": "05d99632",
   "metadata": {},
   "outputs": [
    {
     "name": "stdout",
     "output_type": "stream",
     "text": [
      "enter which number divisors want to know:18\n",
      "18 is divisible by 1 \n",
      "18 is divisible by 2 \n",
      "18 is divisible by 3 \n",
      "18 is divisible by 6 \n",
      "18 is divisible by 9 \n",
      "18 is divisible by 18 \n",
      "the number of divisiors are: 6\n",
      "the number of non divisiors count is: 12\n"
     ]
    }
   ],
   "source": [
    "#number of divisors program\n",
    "d_count=0\n",
    "nd_count=0\n",
    "num=eval(input(\"enter which number divisors want to know:\"))\n",
    "for i in range(1,num+1):\n",
    "    if num%i==0:\n",
    "        print(\"{} is divisible by {} \".format(num,i))\n",
    "        d_count=d_count+1\n",
    "    else:\n",
    "        nd_count=nd_count+1\n",
    "        \n",
    "        \n",
    "print(\"the number of divisiors are:\",d_count)\n",
    "print(\"the number of non divisiors count is:\",nd_count)"
   ]
  },
  {
   "cell_type": "code",
   "execution_count": 56,
   "id": "c45974fe",
   "metadata": {},
   "outputs": [
    {
     "name": "stdout",
     "output_type": "stream",
     "text": [
      "enter which number divisors want to know:10\n",
      "10 is divisible by1 \n",
      "10 is divisible by2 \n",
      "10 is divisible by5 \n",
      "10 is divisible by10 \n",
      "4 6\n"
     ]
    }
   ],
   "source": [
    "num=eval(input(\"enter which number divisors want to know:\"))\n",
    "def counter():\n",
    "    d_count=0\n",
    "    nd_count=0\n",
    "    for i in range(1,num+1):\n",
    "        if num%i==0:\n",
    "            print(\"{} is divisible by{} \".format(num,i))\n",
    "            d_count=d_count+1\n",
    "        else:\n",
    "            nd_count=nd_count+1\n",
    "    return(d_count,nd_count)\n",
    "val1,val2=counter()\n",
    "print(val1,val2)"
   ]
  },
  {
   "cell_type": "code",
   "execution_count": 58,
   "id": "b32613d8",
   "metadata": {},
   "outputs": [
    {
     "name": "stdout",
     "output_type": "stream",
     "text": [
      "10 is divisible by1 \n",
      "10 is divisible by2 \n",
      "10 is divisible by5 \n",
      "10 is divisible by10 \n",
      "4 6\n"
     ]
    }
   ],
   "source": [
    "def counter2():\n",
    "    d_count=0\n",
    "    nd_count=0\n",
    "    num=eval(input(\"enter which number divisors want to know:\"))\n",
    "    for i in range(1,num+1):\n",
    "        if num%i==0:\n",
    "            print(\"{} is divisible by{} \".format(num,i))\n",
    "            d_count=d_count+1\n",
    "        else:\n",
    "            nd_count=nd_count+1\n",
    "    return(d_count,nd_count)\n",
    "val1,val2=counter()\n",
    "print(val1,val2)"
   ]
  },
  {
   "cell_type": "code",
   "execution_count": null,
   "id": "ea5782f9",
   "metadata": {},
   "outputs": [],
   "source": [
    "#def counter2():\n",
    "#===============\n",
    "#============\n",
    "#return()"
   ]
  },
  {
   "cell_type": "code",
   "execution_count": 1,
   "id": "c67e6828",
   "metadata": {},
   "outputs": [
    {
     "name": "stdout",
     "output_type": "stream",
     "text": [
      "10 is divisible by 5 \n"
     ]
    },
    {
     "data": {
      "text/plain": [
       "(1, 0)"
      ]
     },
     "execution_count": 1,
     "metadata": {},
     "output_type": "execute_result"
    }
   ],
   "source": [
    "def condition(num,i,d_count,nd_count):\n",
    "    if num%i==0:\n",
    "        print(\"{} is divisible by {} \".format(num,i))\n",
    "        d_count=d_count+1\n",
    "    else:\n",
    "        nd_count=nd_count+1\n",
    "    return(d_count,nd_count)\n",
    "condition(10,5,0,0)"
   ]
  },
  {
   "cell_type": "code",
   "execution_count": 3,
   "id": "42dc8b8a",
   "metadata": {},
   "outputs": [
    {
     "name": "stdout",
     "output_type": "stream",
     "text": [
      "enter which number divisors want to know:10\n",
      "10 is divisible by 1 \n",
      "10 is divisible by 2 \n",
      "10 is divisible by 5 \n",
      "10 is divisible by 10 \n",
      "4 6\n"
     ]
    }
   ],
   "source": [
    "def counter2():\n",
    "    d_count=0\n",
    "    nd_count=0\n",
    "    num=eval(input(\"enter which number divisors want to know:\"))\n",
    "    for i in range(1,num+1):\n",
    "        d_count,nd_count=condition(num,i,d_count,nd_count)\n",
    "    return(d_count,nd_count)\n",
    "val1,val2=counter2()\n",
    "print(val1,val2)"
   ]
  },
  {
   "cell_type": "code",
   "execution_count": 12,
   "id": "fd55f049",
   "metadata": {},
   "outputs": [],
   "source": [
    "def condition(num,\n",
    "              d_count,\n",
    "              nd_count,\n",
    "              i):\n",
    "    if num%i==0:\n",
    "        print(\"{} is divisible by{} \".format(num,i))\n",
    "        d_count=d_count+1\n",
    "    else:\n",
    "        nd_count=nd_count+1\n",
    "    return(d_count,nd_count)        "
   ]
  },
  {
   "cell_type": "code",
   "execution_count": 13,
   "id": "c376eb2b",
   "metadata": {},
   "outputs": [
    {
     "name": "stdout",
     "output_type": "stream",
     "text": [
      "enter which number divisors want to know:10\n"
     ]
    },
    {
     "ename": "ZeroDivisionError",
     "evalue": "integer division or modulo by zero",
     "output_type": "error",
     "traceback": [
      "\u001b[1;31m---------------------------------------------------------------------------\u001b[0m",
      "\u001b[1;31mZeroDivisionError\u001b[0m                         Traceback (most recent call last)",
      "Cell \u001b[1;32mIn[13], line 19\u001b[0m\n\u001b[0;32m     17\u001b[0m         d_count,nd_count\u001b[38;5;241m=\u001b[39mcondition(num,i,d_count,nd_count)\n\u001b[0;32m     18\u001b[0m     \u001b[38;5;28;01mreturn\u001b[39;00m(d_count,nd_count)\n\u001b[1;32m---> 19\u001b[0m val1,val2\u001b[38;5;241m=\u001b[39m\u001b[43mcounter2\u001b[49m\u001b[43m(\u001b[49m\u001b[43m)\u001b[49m\n\u001b[0;32m     20\u001b[0m \u001b[38;5;28mprint\u001b[39m(val1,val2)\n",
      "Cell \u001b[1;32mIn[13], line 17\u001b[0m, in \u001b[0;36mcounter2\u001b[1;34m()\u001b[0m\n\u001b[0;32m     15\u001b[0m num\u001b[38;5;241m=\u001b[39m\u001b[38;5;28meval\u001b[39m(\u001b[38;5;28minput\u001b[39m(\u001b[38;5;124m\"\u001b[39m\u001b[38;5;124menter which number divisors want to know:\u001b[39m\u001b[38;5;124m\"\u001b[39m))\n\u001b[0;32m     16\u001b[0m \u001b[38;5;28;01mfor\u001b[39;00m i \u001b[38;5;129;01min\u001b[39;00m \u001b[38;5;28mrange\u001b[39m(\u001b[38;5;241m1\u001b[39m,num\u001b[38;5;241m+\u001b[39m\u001b[38;5;241m1\u001b[39m):\n\u001b[1;32m---> 17\u001b[0m     d_count,nd_count\u001b[38;5;241m=\u001b[39m\u001b[43mcondition\u001b[49m\u001b[43m(\u001b[49m\u001b[43mnum\u001b[49m\u001b[43m,\u001b[49m\u001b[43mi\u001b[49m\u001b[43m,\u001b[49m\u001b[43md_count\u001b[49m\u001b[43m,\u001b[49m\u001b[43mnd_count\u001b[49m\u001b[43m)\u001b[49m\n\u001b[0;32m     18\u001b[0m \u001b[38;5;28;01mreturn\u001b[39;00m(d_count,nd_count)\n",
      "Cell \u001b[1;32mIn[13], line 5\u001b[0m, in \u001b[0;36mcondition\u001b[1;34m(num, d_count, nd_count, i)\u001b[0m\n\u001b[0;32m      1\u001b[0m \u001b[38;5;28;01mdef\u001b[39;00m \u001b[38;5;21mcondition\u001b[39m(num,\n\u001b[0;32m      2\u001b[0m               d_count,\n\u001b[0;32m      3\u001b[0m               nd_count,\n\u001b[0;32m      4\u001b[0m               i):\n\u001b[1;32m----> 5\u001b[0m     \u001b[38;5;28;01mif\u001b[39;00m \u001b[43mnum\u001b[49m\u001b[38;5;241;43m%\u001b[39;49m\u001b[43mi\u001b[49m\u001b[38;5;241m==\u001b[39m\u001b[38;5;241m0\u001b[39m:\n\u001b[0;32m      6\u001b[0m         \u001b[38;5;28mprint\u001b[39m(\u001b[38;5;124m\"\u001b[39m\u001b[38;5;132;01m{}\u001b[39;00m\u001b[38;5;124m is divisible by\u001b[39m\u001b[38;5;132;01m{}\u001b[39;00m\u001b[38;5;124m \u001b[39m\u001b[38;5;124m\"\u001b[39m\u001b[38;5;241m.\u001b[39mformat(num,i))\n\u001b[0;32m      7\u001b[0m         d_count\u001b[38;5;241m=\u001b[39md_count\u001b[38;5;241m+\u001b[39m\u001b[38;5;241m1\u001b[39m\n",
      "\u001b[1;31mZeroDivisionError\u001b[0m: integer division or modulo by zero"
     ]
    }
   ],
   "source": [
    "def condition(num,\n",
    "              d_count,\n",
    "              nd_count,\n",
    "              i):\n",
    "    if num%i==0:\n",
    "        print(\"{} is divisible by{} \".format(num,i))\n",
    "        d_count=d_count+1\n",
    "    else:\n",
    "        nd_count=nd_count+1\n",
    "    return(d_count,nd_count) \n",
    "\n",
    "def counter2():\n",
    "    d_count=0\n",
    "    nd_count=0\n",
    "    num=eval(input(\"enter which number divisors want to know:\"))\n",
    "    for i in range(1,num+1):\n",
    "        d_count,nd_count=condition(num,i,d_count,nd_count)\n",
    "    return(d_count,nd_count)\n",
    "val1,val2=counter2()\n",
    "print(val1,val2)"
   ]
  },
  {
   "cell_type": "code",
   "execution_count": null,
   "id": "bd968d2f",
   "metadata": {},
   "outputs": [],
   "source": []
  },
  {
   "cell_type": "code",
   "execution_count": null,
   "id": "b181dcf0",
   "metadata": {},
   "outputs": [],
   "source": []
  },
  {
   "cell_type": "code",
   "execution_count": null,
   "id": "8d635905",
   "metadata": {},
   "outputs": [],
   "source": []
  }
 ],
 "metadata": {
  "kernelspec": {
   "display_name": "Python 3 (ipykernel)",
   "language": "python",
   "name": "python3"
  },
  "language_info": {
   "codemirror_mode": {
    "name": "ipython",
    "version": 3
   },
   "file_extension": ".py",
   "mimetype": "text/x-python",
   "name": "python",
   "nbconvert_exporter": "python",
   "pygments_lexer": "ipython3",
   "version": "3.10.9"
  }
 },
 "nbformat": 4,
 "nbformat_minor": 5
}
